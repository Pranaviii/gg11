{
 "cells": [
  {
   "cell_type": "code",
   "execution_count": 1,
   "id": "7a49d52e",
   "metadata": {},
   "outputs": [
    {
     "name": "stdout",
     "output_type": "stream",
     "text": [
      "Requirement already satisfied: opencv-python-headless<4.3 in ./opt/anaconda3/lib/python3.8/site-packages (4.2.0.34)\n",
      "Requirement already satisfied: numpy>=1.17.3 in ./opt/anaconda3/lib/python3.8/site-packages (from opencv-python-headless<4.3) (1.20.1)\n",
      "Requirement already satisfied: tensorflow in ./opt/anaconda3/lib/python3.8/site-packages (2.9.1)\n",
      "Requirement already satisfied: tensorflow-estimator<2.10.0,>=2.9.0rc0 in ./opt/anaconda3/lib/python3.8/site-packages (from tensorflow) (2.9.0)\n",
      "Requirement already satisfied: keras<2.10.0,>=2.9.0rc0 in ./opt/anaconda3/lib/python3.8/site-packages (from tensorflow) (2.9.0)\n",
      "Requirement already satisfied: h5py>=2.9.0 in ./opt/anaconda3/lib/python3.8/site-packages (from tensorflow) (2.10.0)\n",
      "Requirement already satisfied: google-pasta>=0.1.1 in ./opt/anaconda3/lib/python3.8/site-packages (from tensorflow) (0.2.0)\n",
      "Requirement already satisfied: six>=1.12.0 in ./opt/anaconda3/lib/python3.8/site-packages (from tensorflow) (1.15.0)\n",
      "Requirement already satisfied: tensorflow-io-gcs-filesystem>=0.23.1 in ./opt/anaconda3/lib/python3.8/site-packages (from tensorflow) (0.26.0)\n",
      "Requirement already satisfied: keras-preprocessing>=1.1.1 in ./opt/anaconda3/lib/python3.8/site-packages (from tensorflow) (1.1.2)\n",
      "Requirement already satisfied: packaging in ./opt/anaconda3/lib/python3.8/site-packages (from tensorflow) (20.9)\n",
      "Requirement already satisfied: setuptools in ./opt/anaconda3/lib/python3.8/site-packages (from tensorflow) (52.0.0.post20210125)\n",
      "Requirement already satisfied: termcolor>=1.1.0 in ./opt/anaconda3/lib/python3.8/site-packages (from tensorflow) (1.1.0)\n",
      "Requirement already satisfied: grpcio<2.0,>=1.24.3 in ./opt/anaconda3/lib/python3.8/site-packages (from tensorflow) (1.47.0)\n",
      "Requirement already satisfied: flatbuffers<2,>=1.12 in ./opt/anaconda3/lib/python3.8/site-packages (from tensorflow) (1.12)\n",
      "Requirement already satisfied: typing-extensions>=3.6.6 in ./opt/anaconda3/lib/python3.8/site-packages (from tensorflow) (3.7.4.3)\n",
      "Requirement already satisfied: opt-einsum>=2.3.2 in ./opt/anaconda3/lib/python3.8/site-packages (from tensorflow) (3.3.0)\n",
      "Requirement already satisfied: protobuf<3.20,>=3.9.2 in ./opt/anaconda3/lib/python3.8/site-packages (from tensorflow) (3.19.4)\n",
      "Requirement already satisfied: gast<=0.4.0,>=0.2.1 in ./opt/anaconda3/lib/python3.8/site-packages (from tensorflow) (0.4.0)\n",
      "Requirement already satisfied: tensorboard<2.10,>=2.9 in ./opt/anaconda3/lib/python3.8/site-packages (from tensorflow) (2.9.1)\n",
      "Requirement already satisfied: libclang>=13.0.0 in ./opt/anaconda3/lib/python3.8/site-packages (from tensorflow) (14.0.1)\n",
      "Requirement already satisfied: astunparse>=1.6.0 in ./opt/anaconda3/lib/python3.8/site-packages (from tensorflow) (1.6.3)\n",
      "Requirement already satisfied: absl-py>=1.0.0 in ./opt/anaconda3/lib/python3.8/site-packages (from tensorflow) (1.1.0)\n",
      "Requirement already satisfied: numpy>=1.20 in ./opt/anaconda3/lib/python3.8/site-packages (from tensorflow) (1.20.1)\n",
      "Requirement already satisfied: wrapt>=1.11.0 in ./opt/anaconda3/lib/python3.8/site-packages (from tensorflow) (1.12.1)\n",
      "Requirement already satisfied: wheel<1.0,>=0.23.0 in ./opt/anaconda3/lib/python3.8/site-packages (from astunparse>=1.6.0->tensorflow) (0.36.2)\n",
      "Requirement already satisfied: google-auth-oauthlib<0.5,>=0.4.1 in ./opt/anaconda3/lib/python3.8/site-packages (from tensorboard<2.10,>=2.9->tensorflow) (0.4.6)\n",
      "Requirement already satisfied: werkzeug>=1.0.1 in ./opt/anaconda3/lib/python3.8/site-packages (from tensorboard<2.10,>=2.9->tensorflow) (1.0.1)\n",
      "Requirement already satisfied: tensorboard-data-server<0.7.0,>=0.6.0 in ./opt/anaconda3/lib/python3.8/site-packages (from tensorboard<2.10,>=2.9->tensorflow) (0.6.1)\n",
      "Requirement already satisfied: requests<3,>=2.21.0 in ./opt/anaconda3/lib/python3.8/site-packages (from tensorboard<2.10,>=2.9->tensorflow) (2.25.1)\n",
      "Requirement already satisfied: tensorboard-plugin-wit>=1.6.0 in ./opt/anaconda3/lib/python3.8/site-packages (from tensorboard<2.10,>=2.9->tensorflow) (1.8.1)\n",
      "Requirement already satisfied: google-auth<3,>=1.6.3 in ./opt/anaconda3/lib/python3.8/site-packages (from tensorboard<2.10,>=2.9->tensorflow) (2.9.1)\n",
      "Requirement already satisfied: markdown>=2.6.8 in ./opt/anaconda3/lib/python3.8/site-packages (from tensorboard<2.10,>=2.9->tensorflow) (3.3.7)\n",
      "Requirement already satisfied: pyasn1-modules>=0.2.1 in ./opt/anaconda3/lib/python3.8/site-packages (from google-auth<3,>=1.6.3->tensorboard<2.10,>=2.9->tensorflow) (0.2.8)\n",
      "Requirement already satisfied: rsa<5,>=3.1.4 in ./opt/anaconda3/lib/python3.8/site-packages (from google-auth<3,>=1.6.3->tensorboard<2.10,>=2.9->tensorflow) (4.8)\n",
      "Requirement already satisfied: cachetools<6.0,>=2.0.0 in ./opt/anaconda3/lib/python3.8/site-packages (from google-auth<3,>=1.6.3->tensorboard<2.10,>=2.9->tensorflow) (5.2.0)\n",
      "Requirement already satisfied: requests-oauthlib>=0.7.0 in ./opt/anaconda3/lib/python3.8/site-packages (from google-auth-oauthlib<0.5,>=0.4.1->tensorboard<2.10,>=2.9->tensorflow) (1.3.1)\n",
      "Requirement already satisfied: importlib-metadata>=4.4 in ./opt/anaconda3/lib/python3.8/site-packages (from markdown>=2.6.8->tensorboard<2.10,>=2.9->tensorflow) (4.12.0)\n",
      "Requirement already satisfied: zipp>=0.5 in ./opt/anaconda3/lib/python3.8/site-packages (from importlib-metadata>=4.4->markdown>=2.6.8->tensorboard<2.10,>=2.9->tensorflow) (3.4.1)\n",
      "Requirement already satisfied: pyasn1<0.5.0,>=0.4.6 in ./opt/anaconda3/lib/python3.8/site-packages (from pyasn1-modules>=0.2.1->google-auth<3,>=1.6.3->tensorboard<2.10,>=2.9->tensorflow) (0.4.8)\n",
      "Requirement already satisfied: chardet<5,>=3.0.2 in ./opt/anaconda3/lib/python3.8/site-packages (from requests<3,>=2.21.0->tensorboard<2.10,>=2.9->tensorflow) (4.0.0)\n",
      "Requirement already satisfied: certifi>=2017.4.17 in ./opt/anaconda3/lib/python3.8/site-packages (from requests<3,>=2.21.0->tensorboard<2.10,>=2.9->tensorflow) (2020.12.5)\n",
      "Requirement already satisfied: urllib3<1.27,>=1.21.1 in ./opt/anaconda3/lib/python3.8/site-packages (from requests<3,>=2.21.0->tensorboard<2.10,>=2.9->tensorflow) (1.26.4)\n",
      "Requirement already satisfied: idna<3,>=2.5 in ./opt/anaconda3/lib/python3.8/site-packages (from requests<3,>=2.21.0->tensorboard<2.10,>=2.9->tensorflow) (2.10)\n",
      "Requirement already satisfied: oauthlib>=3.0.0 in ./opt/anaconda3/lib/python3.8/site-packages (from requests-oauthlib>=0.7.0->google-auth-oauthlib<0.5,>=0.4.1->tensorboard<2.10,>=2.9->tensorflow) (3.2.0)\n",
      "Requirement already satisfied: pyparsing>=2.0.2 in ./opt/anaconda3/lib/python3.8/site-packages (from packaging->tensorflow) (2.4.7)\n"
     ]
    }
   ],
   "source": [
    "!pip install \"opencv-python-headless<4.3\"\n",
    "!pip install tensorflow\n",
    "import itertools\n",
    "\n",
    "import os\n",
    "\n",
    "import numpy as np\n",
    "from random import random, randint, choices\n",
    "\n",
    "import keras\n",
    "from keras.models import Sequential, Model\n",
    "from keras.layers import Dense, Dropout, Activation, Flatten\n",
    "from keras.layers import Conv2D, MaxPooling2D, Input\n",
    "import matplotlib.pyplot as plt\n",
    "import cv2"
   ]
  },
  {
   "cell_type": "code",
   "execution_count": 2,
   "id": "ec15f2a9",
   "metadata": {},
   "outputs": [],
   "source": [
    "alphabet_all = list('qwertyupasdfghjkzxcvbnm23456789QWERTYUPKJHGFDSAZXCVBNM')\n",
    "alphabet = list('qwertyupasdfghjkzxcvbnm23456789')#QWERTYUIOPLKJHGFDSAZXCVBNM')\n",
    "num_alphabet = len(alphabet)\n",
    "def _gen_captcha(img_dir, num_of_letters, num_of_repetition, width, height):\n",
    "    if os.path.exists(img_dir):\n",
    "        shutil.rmtree(img_dir)\n",
    "    if not os.path.exists(img_dir):\n",
    "        os.makedirs(img_dir)\n",
    "\n",
    "    image = ImageCaptcha(width=width, height=height)\n",
    "\n",
    "    for counter in range(num_of_repetition):\n",
    "        i = choices(alphabet_all, k=5)\n",
    "        captcha = ''.join(i)\n",
    "        fn = os.path.join(img_dir, '%s_%s.png' % (captcha, uuid.uuid4()))\n",
    "        image.write(captcha, fn)\n",
    "\n",
    "\n",
    "def gen_dataset(path, num_of_repetition, num_of_letters, width, height):\n",
    "    _gen_captcha(os.path.join(path, 'data'), num_of_letters, num_of_repetition, width, height)\n",
    "    print('Finished Data Generation')"
   ]
  },
  {
   "cell_type": "code",
   "execution_count": 3,
   "id": "4c615914",
   "metadata": {},
   "outputs": [],
   "source": [
    "BATCH_SIZE = 100\n",
    "NUM_OF_LETTERS = 5\n",
    "EPOCHS = 50\n",
    "IMG_ROW, IMG_COLS = 50, 135\n",
    "\n",
    "# Non-configs\n",
    "PATH = '/Users/pnarukullas25/Documents/fgg11'\n",
    "DATA_PATH = os.path.join(PATH, 'train')"
   ]
  },
  {
   "cell_type": "code",
   "execution_count": 4,
   "id": "51d2f5f5",
   "metadata": {},
   "outputs": [],
   "source": [
    "def load_data(path, test_split=0.1):\n",
    "    print ('loading dataset...')\n",
    "    y_train = []\n",
    "    y_test = []\n",
    "    x_train = []\n",
    "    x_test = []\n",
    "\n",
    "    # r=root, d=directories, f = files\n",
    "    counter = 0\n",
    "    for r, d, f in os.walk(path):\n",
    "        for fl in f:\n",
    "            if '.png' in fl:\n",
    "                flr = fl.split('_')[0]\n",
    "                counter += 1\n",
    "                label = np.zeros((NUM_OF_LETTERS, num_alphabet))\n",
    "                for i in range(NUM_OF_LETTERS):\n",
    "                    label[i, alphabet.index(flr[i].lower())] = 1\n",
    "#                 label = np.zeros((50, 1))\n",
    "#                 for i in range(5):\n",
    "#                     label[i*5+int(flr[i])] = 1\n",
    "\n",
    "                img = cv2.imread(os.path.join(r, fl))\n",
    "                img = cv2.cvtColor(img, cv2.COLOR_BGR2GRAY)\n",
    "                img = cv2.resize(img, (int(135/2), int(50/2)), interpolation=cv2.INTER_AREA)\n",
    "                img = np.reshape(img, (img.shape[0], img.shape[1], 1))\n",
    "\n",
    "                if random() < test_split:\n",
    "                    y_test.append(label)\n",
    "                    x_test.append(img)\n",
    "                else:\n",
    "                    y_train.append(label)\n",
    "                    x_train.append(img)\n",
    "\n",
    "    print('dataset size:', counter, '(train=%d, test=%d)' % (len(y_train), len(y_test)))\n",
    "    return np.array(x_train), np.array(y_train), np.array(x_test), np.array(y_test)"
   ]
  },
  {
   "cell_type": "code",
   "execution_count": 5,
   "id": "1088fe99",
   "metadata": {},
   "outputs": [],
   "source": [
    "if not os.path.exists(DATA_PATH):\n",
    "    print('Generating Dataset')\n",
    "    gen_dataset(DATA_PATH,50000, NUM_OF_LETTERS, IMG_COLS, IMG_ROW)"
   ]
  },
  {
   "cell_type": "code",
   "execution_count": 6,
   "id": "13dc5f38",
   "metadata": {},
   "outputs": [
    {
     "name": "stdout",
     "output_type": "stream",
     "text": [
      "loading dataset...\n",
      "dataset size: 50000 (train=44939, test=5061)\n"
     ]
    }
   ],
   "source": [
    "x_train, y_train, x_test, y_test = load_data(DATA_PATH)\n",
    "\n",
    "x_train = x_train.astype('float32')\n",
    "x_test = x_test.astype('float32')\n",
    "x_train /= 255\n",
    "x_test /= 255"
   ]
  },
  {
   "cell_type": "code",
   "execution_count": 7,
   "id": "31917419",
   "metadata": {},
   "outputs": [
    {
     "name": "stdout",
     "output_type": "stream",
     "text": [
      "(44939, 25, 67, 1)\n",
      "(44939, 5, 31)\n",
      "(5061, 25, 67, 1)\n",
      "(5061, 5, 31)\n"
     ]
    }
   ],
   "source": [
    "print(x_train.shape)\n",
    "print(y_train.shape)\n",
    "print(x_test.shape)\n",
    "print(y_test.shape)"
   ]
  },
  {
   "cell_type": "code",
   "execution_count": 8,
   "id": "ea4bab99",
   "metadata": {},
   "outputs": [],
   "source": [
    "s_train = []\n",
    "s_test = []\n",
    "for i in range(NUM_OF_LETTERS):\n",
    "    s_train.append(y_train[:, i, :])\n",
    "    s_test.append(y_test[:, i, :])"
   ]
  },
  {
   "cell_type": "code",
   "execution_count": 9,
   "id": "ba897a8b",
   "metadata": {},
   "outputs": [],
   "source": [
    "save_dir = os.path.join(PATH, 'saved_models')\n",
    "model_name = 'keras_ciraf10_trained_model.h5'"
   ]
  },
  {
   "cell_type": "code",
   "execution_count": 10,
   "id": "1df6c952",
   "metadata": {},
   "outputs": [],
   "source": [
    "input_layer = Input((25, 67, 1))\n",
    "x = Conv2D(filters=64, kernel_size=(5, 5), padding='same', activation='relu')(input_layer)\n",
    "x = MaxPooling2D(pool_size=(2, 2))(x)\n",
    "\n",
    "x = Conv2D(filters=64, kernel_size=(5, 5), padding='same', activation='relu')(x)\n",
    "x = MaxPooling2D(pool_size=(2, 2))(x)\n",
    "\n",
    "x = Conv2D(filters=32, kernel_size=(5, 5), padding='same', activation='relu')(x)\n",
    "x = MaxPooling2D(pool_size=(2, 2))(x)\n",
    "\n",
    "x = Dropout(0.3)(x)\n",
    "x = Flatten()(x)\n",
    "x = Dense(512, activation='relu')(x)\n",
    "x = Dropout(0.3)(x)\n",
    "\n",
    "out = [Dense(num_alphabet, name='digit%d' % i, activation='softmax')(x) for i in range(NUM_OF_LETTERS)]\n",
    "# out = Dense(num_alphabet*5, activation='sigmoid')(x)\n",
    "\n",
    "model = Model(inputs=input_layer, outputs=out)"
   ]
  },
  {
   "cell_type": "code",
   "execution_count": 11,
   "id": "ec3fa0be",
   "metadata": {},
   "outputs": [
    {
     "name": "stdout",
     "output_type": "stream",
     "text": [
      "Model: \"model\"\n",
      "__________________________________________________________________________________________________\n",
      " Layer (type)                   Output Shape         Param #     Connected to                     \n",
      "==================================================================================================\n",
      " input_1 (InputLayer)           [(None, 25, 67, 1)]  0           []                               \n",
      "                                                                                                  \n",
      " conv2d (Conv2D)                (None, 25, 67, 64)   1664        ['input_1[0][0]']                \n",
      "                                                                                                  \n",
      " max_pooling2d (MaxPooling2D)   (None, 12, 33, 64)   0           ['conv2d[0][0]']                 \n",
      "                                                                                                  \n",
      " conv2d_1 (Conv2D)              (None, 12, 33, 64)   102464      ['max_pooling2d[0][0]']          \n",
      "                                                                                                  \n",
      " max_pooling2d_1 (MaxPooling2D)  (None, 6, 16, 64)   0           ['conv2d_1[0][0]']               \n",
      "                                                                                                  \n",
      " conv2d_2 (Conv2D)              (None, 6, 16, 32)    51232       ['max_pooling2d_1[0][0]']        \n",
      "                                                                                                  \n",
      " max_pooling2d_2 (MaxPooling2D)  (None, 3, 8, 32)    0           ['conv2d_2[0][0]']               \n",
      "                                                                                                  \n",
      " dropout (Dropout)              (None, 3, 8, 32)     0           ['max_pooling2d_2[0][0]']        \n",
      "                                                                                                  \n",
      " flatten (Flatten)              (None, 768)          0           ['dropout[0][0]']                \n",
      "                                                                                                  \n",
      " dense (Dense)                  (None, 512)          393728      ['flatten[0][0]']                \n",
      "                                                                                                  \n",
      " dropout_1 (Dropout)            (None, 512)          0           ['dense[0][0]']                  \n",
      "                                                                                                  \n",
      " digit0 (Dense)                 (None, 31)           15903       ['dropout_1[0][0]']              \n",
      "                                                                                                  \n",
      " digit1 (Dense)                 (None, 31)           15903       ['dropout_1[0][0]']              \n",
      "                                                                                                  \n",
      " digit2 (Dense)                 (None, 31)           15903       ['dropout_1[0][0]']              \n",
      "                                                                                                  \n",
      " digit3 (Dense)                 (None, 31)           15903       ['dropout_1[0][0]']              \n",
      "                                                                                                  \n",
      " digit4 (Dense)                 (None, 31)           15903       ['dropout_1[0][0]']              \n",
      "                                                                                                  \n",
      "==================================================================================================\n",
      "Total params: 628,603\n",
      "Trainable params: 628,603\n",
      "Non-trainable params: 0\n",
      "__________________________________________________________________________________________________\n"
     ]
    }
   ],
   "source": [
    "# initiate Adam optimizer\n",
    "\n",
    "model.compile(loss='binary_crossentropy',\n",
    "              optimizer='adam',\n",
    "              metrics=['accuracy'])\n",
    "\n",
    "\n",
    "model.summary()"
   ]
  },
  {
   "cell_type": "code",
   "execution_count": 12,
   "id": "d9a89786",
   "metadata": {},
   "outputs": [],
   "source": [
    "hist_train_loss_digit = {i:[] for i in range(5)}\n",
    "hist_test_loss_digit = {i:[] for i in range(5)}\n",
    "\n",
    "hist_train_acc_digit = {i:[] for i in range(5)}\n",
    "hist_test_acc_digit = {i:[] for i in range(5)}\n",
    "\n",
    "hist_train_loss = []\n",
    "hist_test_loss = []\n",
    "\n",
    "hist_train_acc = []\n",
    "hist_test_acc = []"
   ]
  },
  {
   "cell_type": "code",
   "execution_count": 13,
   "id": "f1b575a0",
   "metadata": {},
   "outputs": [],
   "source": [
    "digit_acc = [[] for _ in range(NUM_OF_LETTERS)]\n",
    "val_digit_acc = [[] for _ in range(NUM_OF_LETTERS)]\n",
    "loss = []\n",
    "val_loss = []"
   ]
  },
  {
   "cell_type": "code",
   "execution_count": 14,
   "id": "392a9e17",
   "metadata": {},
   "outputs": [
    {
     "name": "stdout",
     "output_type": "stream",
     "text": [
      "Epoch 1/50\n",
      "450/450 [==============================] - 118s 259ms/step - loss: 0.7529 - digit0_loss: 0.1506 - digit1_loss: 0.1505 - digit2_loss: 0.1506 - digit3_loss: 0.1507 - digit4_loss: 0.1505 - digit0_accuracy: 0.0379 - digit1_accuracy: 0.0370 - digit2_accuracy: 0.0373 - digit3_accuracy: 0.0358 - digit4_accuracy: 0.0357 - val_loss: 0.7084 - val_digit0_loss: 0.1417 - val_digit1_loss: 0.1417 - val_digit2_loss: 0.1415 - val_digit3_loss: 0.1417 - val_digit4_loss: 0.1418 - val_digit0_accuracy: 0.0401 - val_digit1_accuracy: 0.0366 - val_digit2_accuracy: 0.0375 - val_digit3_accuracy: 0.0415 - val_digit4_accuracy: 0.0358\n",
      "Epoch 2/50\n",
      "450/450 [==============================] - 121s 268ms/step - loss: 0.7150 - digit0_loss: 0.1430 - digit1_loss: 0.1430 - digit2_loss: 0.1430 - digit3_loss: 0.1430 - digit4_loss: 0.1430 - digit0_accuracy: 0.0373 - digit1_accuracy: 0.0367 - digit2_accuracy: 0.0379 - digit3_accuracy: 0.0362 - digit4_accuracy: 0.0387 - val_loss: 0.7087 - val_digit0_loss: 0.1416 - val_digit1_loss: 0.1418 - val_digit2_loss: 0.1417 - val_digit3_loss: 0.1419 - val_digit4_loss: 0.1416 - val_digit0_accuracy: 0.0385 - val_digit1_accuracy: 0.0407 - val_digit2_accuracy: 0.0369 - val_digit3_accuracy: 0.0358 - val_digit4_accuracy: 0.0405\n",
      "Epoch 3/50\n",
      "450/450 [==============================] - 119s 265ms/step - loss: 0.7122 - digit0_loss: 0.1424 - digit1_loss: 0.1425 - digit2_loss: 0.1425 - digit3_loss: 0.1425 - digit4_loss: 0.1424 - digit0_accuracy: 0.0392 - digit1_accuracy: 0.0382 - digit2_accuracy: 0.0406 - digit3_accuracy: 0.0398 - digit4_accuracy: 0.0380 - val_loss: 0.7005 - val_digit0_loss: 0.1394 - val_digit1_loss: 0.1407 - val_digit2_loss: 0.1403 - val_digit3_loss: 0.1404 - val_digit4_loss: 0.1399 - val_digit0_accuracy: 0.0804 - val_digit1_accuracy: 0.0620 - val_digit2_accuracy: 0.0599 - val_digit3_accuracy: 0.0711 - val_digit4_accuracy: 0.0676\n",
      "Epoch 4/50\n",
      "450/450 [==============================] - 119s 264ms/step - loss: 0.6589 - digit0_loss: 0.1272 - digit1_loss: 0.1343 - digit2_loss: 0.1348 - digit3_loss: 0.1342 - digit4_loss: 0.1283 - digit0_accuracy: 0.1522 - digit1_accuracy: 0.1035 - digit2_accuracy: 0.1017 - digit3_accuracy: 0.1049 - digit4_accuracy: 0.1381 - val_loss: 0.5846 - val_digit0_loss: 0.1057 - val_digit1_loss: 0.1230 - val_digit2_loss: 0.1234 - val_digit3_loss: 0.1228 - val_digit4_loss: 0.1096 - val_digit0_accuracy: 0.3347 - val_digit1_accuracy: 0.1832 - val_digit2_accuracy: 0.1836 - val_digit3_accuracy: 0.1889 - val_digit4_accuracy: 0.2748\n",
      "Epoch 5/50\n",
      "450/450 [==============================] - 117s 260ms/step - loss: 0.5647 - digit0_loss: 0.1000 - digit1_loss: 0.1203 - digit2_loss: 0.1220 - digit3_loss: 0.1192 - digit4_loss: 0.1032 - digit0_accuracy: 0.3558 - digit1_accuracy: 0.2076 - digit2_accuracy: 0.2011 - digit3_accuracy: 0.2179 - digit4_accuracy: 0.3336 - val_loss: 0.4780 - val_digit0_loss: 0.0773 - val_digit1_loss: 0.1069 - val_digit2_loss: 0.1084 - val_digit3_loss: 0.1050 - val_digit4_loss: 0.0803 - val_digit0_accuracy: 0.5710 - val_digit1_accuracy: 0.3343 - val_digit2_accuracy: 0.3312 - val_digit3_accuracy: 0.3604 - val_digit4_accuracy: 0.5576\n",
      "Epoch 6/50\n",
      "450/450 [==============================] - 116s 258ms/step - loss: 0.4796 - digit0_loss: 0.0789 - digit1_loss: 0.1061 - digit2_loss: 0.1099 - digit3_loss: 0.1046 - digit4_loss: 0.0802 - digit0_accuracy: 0.5389 - digit1_accuracy: 0.3359 - digit2_accuracy: 0.3109 - digit3_accuracy: 0.3521 - digit4_accuracy: 0.5331 - val_loss: 0.3920 - val_digit0_loss: 0.0585 - val_digit1_loss: 0.0906 - val_digit2_loss: 0.0947 - val_digit3_loss: 0.0886 - val_digit4_loss: 0.0596 - val_digit0_accuracy: 0.7226 - val_digit1_accuracy: 0.4768 - val_digit2_accuracy: 0.4527 - val_digit3_accuracy: 0.5048 - val_digit4_accuracy: 0.7119\n",
      "Epoch 7/50\n",
      "450/450 [==============================] - 121s 269ms/step - loss: 0.4193 - digit0_loss: 0.0648 - digit1_loss: 0.0954 - digit2_loss: 0.1002 - digit3_loss: 0.0941 - digit4_loss: 0.0647 - digit0_accuracy: 0.6515 - digit1_accuracy: 0.4255 - digit2_accuracy: 0.3958 - digit3_accuracy: 0.4376 - digit4_accuracy: 0.6538 - val_loss: 0.3388 - val_digit0_loss: 0.0467 - val_digit1_loss: 0.0803 - val_digit2_loss: 0.0856 - val_digit3_loss: 0.0793 - val_digit4_loss: 0.0469 - val_digit0_accuracy: 0.8036 - val_digit1_accuracy: 0.5700 - val_digit2_accuracy: 0.5286 - val_digit3_accuracy: 0.5697 - val_digit4_accuracy: 0.7939\n",
      "Epoch 8/50\n",
      "450/450 [==============================] - 121s 268ms/step - loss: 0.3779 - digit0_loss: 0.0559 - digit1_loss: 0.0872 - digit2_loss: 0.0938 - digit3_loss: 0.0859 - digit4_loss: 0.0552 - digit0_accuracy: 0.7115 - digit1_accuracy: 0.4939 - digit2_accuracy: 0.4502 - digit3_accuracy: 0.5074 - digit4_accuracy: 0.7164 - val_loss: 0.3015 - val_digit0_loss: 0.0392 - val_digit1_loss: 0.0726 - val_digit2_loss: 0.0799 - val_digit3_loss: 0.0713 - val_digit4_loss: 0.0385 - val_digit0_accuracy: 0.8362 - val_digit1_accuracy: 0.6372 - val_digit2_accuracy: 0.5734 - val_digit3_accuracy: 0.6376 - val_digit4_accuracy: 0.8378\n",
      "Epoch 9/50\n",
      "450/450 [==============================] - 123s 273ms/step - loss: 0.3466 - digit0_loss: 0.0490 - digit1_loss: 0.0814 - digit2_loss: 0.0883 - digit3_loss: 0.0793 - digit4_loss: 0.0485 - digit0_accuracy: 0.7592 - digit1_accuracy: 0.5409 - digit2_accuracy: 0.4930 - digit3_accuracy: 0.5582 - digit4_accuracy: 0.7595 - val_loss: 0.2658 - val_digit0_loss: 0.0322 - val_digit1_loss: 0.0649 - val_digit2_loss: 0.0728 - val_digit3_loss: 0.0637 - val_digit4_loss: 0.0322 - val_digit0_accuracy: 0.8702 - val_digit1_accuracy: 0.6769 - val_digit2_accuracy: 0.6161 - val_digit3_accuracy: 0.6874 - val_digit4_accuracy: 0.8654\n",
      "Epoch 10/50\n",
      "450/450 [==============================] - 123s 273ms/step - loss: 0.3225 - digit0_loss: 0.0444 - digit1_loss: 0.0761 - digit2_loss: 0.0837 - digit3_loss: 0.0741 - digit4_loss: 0.0442 - digit0_accuracy: 0.7849 - digit1_accuracy: 0.5760 - digit2_accuracy: 0.5255 - digit3_accuracy: 0.5944 - digit4_accuracy: 0.7855 - val_loss: 0.2458 - val_digit0_loss: 0.0279 - val_digit1_loss: 0.0602 - val_digit2_loss: 0.0688 - val_digit3_loss: 0.0595 - val_digit4_loss: 0.0294 - val_digit0_accuracy: 0.8884 - val_digit1_accuracy: 0.7054 - val_digit2_accuracy: 0.6392 - val_digit3_accuracy: 0.7032 - val_digit4_accuracy: 0.8777\n",
      "Epoch 11/50\n",
      "450/450 [==============================] - 122s 272ms/step - loss: 0.3031 - digit0_loss: 0.0407 - digit1_loss: 0.0717 - digit2_loss: 0.0798 - digit3_loss: 0.0703 - digit4_loss: 0.0405 - digit0_accuracy: 0.8052 - digit1_accuracy: 0.6082 - digit2_accuracy: 0.5535 - digit3_accuracy: 0.6192 - digit4_accuracy: 0.8058 - val_loss: 0.2279 - val_digit0_loss: 0.0264 - val_digit1_loss: 0.0561 - val_digit2_loss: 0.0645 - val_digit3_loss: 0.0554 - val_digit4_loss: 0.0254 - val_digit0_accuracy: 0.8978 - val_digit1_accuracy: 0.7368 - val_digit2_accuracy: 0.6781 - val_digit3_accuracy: 0.7281 - val_digit4_accuracy: 0.8992\n",
      "Epoch 12/50\n",
      "450/450 [==============================] - 124s 275ms/step - loss: 0.2845 - digit0_loss: 0.0374 - digit1_loss: 0.0678 - digit2_loss: 0.0762 - digit3_loss: 0.0660 - digit4_loss: 0.0372 - digit0_accuracy: 0.8242 - digit1_accuracy: 0.6335 - digit2_accuracy: 0.5771 - digit3_accuracy: 0.6452 - digit4_accuracy: 0.8234 - val_loss: 0.2100 - val_digit0_loss: 0.0225 - val_digit1_loss: 0.0520 - val_digit2_loss: 0.0604 - val_digit3_loss: 0.0518 - val_digit4_loss: 0.0231 - val_digit0_accuracy: 0.9095 - val_digit1_accuracy: 0.7530 - val_digit2_accuracy: 0.7010 - val_digit3_accuracy: 0.7463 - val_digit4_accuracy: 0.8996\n",
      "Epoch 13/50\n",
      "450/450 [==============================] - 125s 277ms/step - loss: 0.2701 - digit0_loss: 0.0349 - digit1_loss: 0.0644 - digit2_loss: 0.0726 - digit3_loss: 0.0630 - digit4_loss: 0.0351 - digit0_accuracy: 0.8359 - digit1_accuracy: 0.6556 - digit2_accuracy: 0.6040 - digit3_accuracy: 0.6673 - digit4_accuracy: 0.8359 - val_loss: 0.1991 - val_digit0_loss: 0.0212 - val_digit1_loss: 0.0491 - val_digit2_loss: 0.0574 - val_digit3_loss: 0.0488 - val_digit4_loss: 0.0226 - val_digit0_accuracy: 0.9140 - val_digit1_accuracy: 0.7714 - val_digit2_accuracy: 0.7133 - val_digit3_accuracy: 0.7637 - val_digit4_accuracy: 0.9034\n",
      "Epoch 14/50\n",
      "450/450 [==============================] - 128s 285ms/step - loss: 0.2560 - digit0_loss: 0.0328 - digit1_loss: 0.0614 - digit2_loss: 0.0691 - digit3_loss: 0.0597 - digit4_loss: 0.0330 - digit0_accuracy: 0.8459 - digit1_accuracy: 0.6753 - digit2_accuracy: 0.6285 - digit3_accuracy: 0.6877 - digit4_accuracy: 0.8482 - val_loss: 0.1827 - val_digit0_loss: 0.0192 - val_digit1_loss: 0.0455 - val_digit2_loss: 0.0536 - val_digit3_loss: 0.0446 - val_digit4_loss: 0.0197 - val_digit0_accuracy: 0.9257 - val_digit1_accuracy: 0.7896 - val_digit2_accuracy: 0.7315 - val_digit3_accuracy: 0.7910 - val_digit4_accuracy: 0.9139\n",
      "Epoch 15/50\n",
      "450/450 [==============================] - 127s 281ms/step - loss: 0.2444 - digit0_loss: 0.0309 - digit1_loss: 0.0588 - digit2_loss: 0.0664 - digit3_loss: 0.0572 - digit4_loss: 0.0312 - digit0_accuracy: 0.8561 - digit1_accuracy: 0.6936 - digit2_accuracy: 0.6429 - digit3_accuracy: 0.7043 - digit4_accuracy: 0.8580 - val_loss: 0.1746 - val_digit0_loss: 0.0177 - val_digit1_loss: 0.0439 - val_digit2_loss: 0.0511 - val_digit3_loss: 0.0432 - val_digit4_loss: 0.0187 - val_digit0_accuracy: 0.9239 - val_digit1_accuracy: 0.7884 - val_digit2_accuracy: 0.7504 - val_digit3_accuracy: 0.7991 - val_digit4_accuracy: 0.9200\n",
      "Epoch 16/50\n",
      "450/450 [==============================] - 127s 282ms/step - loss: 0.2346 - digit0_loss: 0.0296 - digit1_loss: 0.0564 - digit2_loss: 0.0636 - digit3_loss: 0.0554 - digit4_loss: 0.0296 - digit0_accuracy: 0.8641 - digit1_accuracy: 0.7054 - digit2_accuracy: 0.6640 - digit3_accuracy: 0.7155 - digit4_accuracy: 0.8641 - val_loss: 0.1705 - val_digit0_loss: 0.0179 - val_digit1_loss: 0.0426 - val_digit2_loss: 0.0491 - val_digit3_loss: 0.0419 - val_digit4_loss: 0.0190 - val_digit0_accuracy: 0.9225 - val_digit1_accuracy: 0.8016 - val_digit2_accuracy: 0.7668 - val_digit3_accuracy: 0.8014 - val_digit4_accuracy: 0.9168\n",
      "Epoch 17/50\n",
      "450/450 [==============================] - 128s 285ms/step - loss: 0.2239 - digit0_loss: 0.0282 - digit1_loss: 0.0537 - digit2_loss: 0.0609 - digit3_loss: 0.0529 - digit4_loss: 0.0283 - digit0_accuracy: 0.8717 - digit1_accuracy: 0.7243 - digit2_accuracy: 0.6838 - digit3_accuracy: 0.7300 - digit4_accuracy: 0.8701 - val_loss: 0.1555 - val_digit0_loss: 0.0159 - val_digit1_loss: 0.0386 - val_digit2_loss: 0.0461 - val_digit3_loss: 0.0387 - val_digit4_loss: 0.0161 - val_digit0_accuracy: 0.9299 - val_digit1_accuracy: 0.8245 - val_digit2_accuracy: 0.7793 - val_digit3_accuracy: 0.8190 - val_digit4_accuracy: 0.9303\n",
      "Epoch 18/50\n",
      "450/450 [==============================] - 127s 282ms/step - loss: 0.2146 - digit0_loss: 0.0269 - digit1_loss: 0.0517 - digit2_loss: 0.0586 - digit3_loss: 0.0504 - digit4_loss: 0.0271 - digit0_accuracy: 0.8775 - digit1_accuracy: 0.7377 - digit2_accuracy: 0.6985 - digit3_accuracy: 0.7430 - digit4_accuracy: 0.8773 - val_loss: 0.1478 - val_digit0_loss: 0.0154 - val_digit1_loss: 0.0367 - val_digit2_loss: 0.0434 - val_digit3_loss: 0.0369 - val_digit4_loss: 0.0154 - val_digit0_accuracy: 0.9328 - val_digit1_accuracy: 0.8285 - val_digit2_accuracy: 0.7987 - val_digit3_accuracy: 0.8230 - val_digit4_accuracy: 0.9301\n",
      "Epoch 19/50\n",
      "450/450 [==============================] - 129s 286ms/step - loss: 0.2073 - digit0_loss: 0.0254 - digit1_loss: 0.0498 - digit2_loss: 0.0569 - digit3_loss: 0.0491 - digit4_loss: 0.0262 - digit0_accuracy: 0.8839 - digit1_accuracy: 0.7482 - digit2_accuracy: 0.7106 - digit3_accuracy: 0.7512 - digit4_accuracy: 0.8818 - val_loss: 0.1411 - val_digit0_loss: 0.0147 - val_digit1_loss: 0.0351 - val_digit2_loss: 0.0416 - val_digit3_loss: 0.0351 - val_digit4_loss: 0.0145 - val_digit0_accuracy: 0.9352 - val_digit1_accuracy: 0.8392 - val_digit2_accuracy: 0.8070 - val_digit3_accuracy: 0.8374 - val_digit4_accuracy: 0.9364\n",
      "Epoch 20/50\n",
      "450/450 [==============================] - 126s 279ms/step - loss: 0.2003 - digit0_loss: 0.0245 - digit1_loss: 0.0483 - digit2_loss: 0.0551 - digit3_loss: 0.0476 - digit4_loss: 0.0249 - digit0_accuracy: 0.8908 - digit1_accuracy: 0.7566 - digit2_accuracy: 0.7201 - digit3_accuracy: 0.7613 - digit4_accuracy: 0.8884 - val_loss: 0.1346 - val_digit0_loss: 0.0139 - val_digit1_loss: 0.0337 - val_digit2_loss: 0.0395 - val_digit3_loss: 0.0334 - val_digit4_loss: 0.0141 - val_digit0_accuracy: 0.9405 - val_digit1_accuracy: 0.8459 - val_digit2_accuracy: 0.8204 - val_digit3_accuracy: 0.8471 - val_digit4_accuracy: 0.9366\n",
      "Epoch 21/50\n",
      "450/450 [==============================] - 125s 279ms/step - loss: 0.1947 - digit0_loss: 0.0239 - digit1_loss: 0.0470 - digit2_loss: 0.0533 - digit3_loss: 0.0463 - digit4_loss: 0.0242 - digit0_accuracy: 0.8910 - digit1_accuracy: 0.7661 - digit2_accuracy: 0.7306 - digit3_accuracy: 0.7680 - digit4_accuracy: 0.8913 - val_loss: 0.1347 - val_digit0_loss: 0.0138 - val_digit1_loss: 0.0340 - val_digit2_loss: 0.0396 - val_digit3_loss: 0.0332 - val_digit4_loss: 0.0141 - val_digit0_accuracy: 0.9360 - val_digit1_accuracy: 0.8405 - val_digit2_accuracy: 0.8115 - val_digit3_accuracy: 0.8435 - val_digit4_accuracy: 0.9368\n",
      "Epoch 22/50\n",
      "450/450 [==============================] - 127s 281ms/step - loss: 0.1885 - digit0_loss: 0.0231 - digit1_loss: 0.0454 - digit2_loss: 0.0519 - digit3_loss: 0.0446 - digit4_loss: 0.0234 - digit0_accuracy: 0.8956 - digit1_accuracy: 0.7759 - digit2_accuracy: 0.7422 - digit3_accuracy: 0.7799 - digit4_accuracy: 0.8968 - val_loss: 0.1338 - val_digit0_loss: 0.0136 - val_digit1_loss: 0.0334 - val_digit2_loss: 0.0394 - val_digit3_loss: 0.0329 - val_digit4_loss: 0.0145 - val_digit0_accuracy: 0.9376 - val_digit1_accuracy: 0.8479 - val_digit2_accuracy: 0.8222 - val_digit3_accuracy: 0.8502 - val_digit4_accuracy: 0.9332\n",
      "Epoch 23/50\n",
      "450/450 [==============================] - 126s 280ms/step - loss: 0.1835 - digit0_loss: 0.0225 - digit1_loss: 0.0442 - digit2_loss: 0.0505 - digit3_loss: 0.0437 - digit4_loss: 0.0227 - digit0_accuracy: 0.8990 - digit1_accuracy: 0.7814 - digit2_accuracy: 0.7502 - digit3_accuracy: 0.7835 - digit4_accuracy: 0.8993 - val_loss: 0.1229 - val_digit0_loss: 0.0125 - val_digit1_loss: 0.0306 - val_digit2_loss: 0.0360 - val_digit3_loss: 0.0310 - val_digit4_loss: 0.0128 - val_digit0_accuracy: 0.9467 - val_digit1_accuracy: 0.8627 - val_digit2_accuracy: 0.8425 - val_digit3_accuracy: 0.8593 - val_digit4_accuracy: 0.9397\n",
      "Epoch 24/50\n",
      "450/450 [==============================] - 128s 284ms/step - loss: 0.1783 - digit0_loss: 0.0218 - digit1_loss: 0.0430 - digit2_loss: 0.0491 - digit3_loss: 0.0426 - digit4_loss: 0.0218 - digit0_accuracy: 0.9023 - digit1_accuracy: 0.7902 - digit2_accuracy: 0.7584 - digit3_accuracy: 0.7927 - digit4_accuracy: 0.9027 - val_loss: 0.1206 - val_digit0_loss: 0.0126 - val_digit1_loss: 0.0297 - val_digit2_loss: 0.0361 - val_digit3_loss: 0.0300 - val_digit4_loss: 0.0123 - val_digit0_accuracy: 0.9445 - val_digit1_accuracy: 0.8684 - val_digit2_accuracy: 0.8376 - val_digit3_accuracy: 0.8613 - val_digit4_accuracy: 0.9455\n",
      "Epoch 25/50\n",
      "450/450 [==============================] - 127s 282ms/step - loss: 0.1750 - digit0_loss: 0.0214 - digit1_loss: 0.0423 - digit2_loss: 0.0482 - digit3_loss: 0.0417 - digit4_loss: 0.0215 - digit0_accuracy: 0.9043 - digit1_accuracy: 0.7942 - digit2_accuracy: 0.7656 - digit3_accuracy: 0.7952 - digit4_accuracy: 0.9040 - val_loss: 0.1188 - val_digit0_loss: 0.0126 - val_digit1_loss: 0.0295 - val_digit2_loss: 0.0352 - val_digit3_loss: 0.0293 - val_digit4_loss: 0.0123 - val_digit0_accuracy: 0.9447 - val_digit1_accuracy: 0.8698 - val_digit2_accuracy: 0.8398 - val_digit3_accuracy: 0.8660 - val_digit4_accuracy: 0.9451\n",
      "Epoch 26/50\n",
      "450/450 [==============================] - 129s 286ms/step - loss: 0.1701 - digit0_loss: 0.0204 - digit1_loss: 0.0410 - digit2_loss: 0.0472 - digit3_loss: 0.0405 - digit4_loss: 0.0210 - digit0_accuracy: 0.9083 - digit1_accuracy: 0.8007 - digit2_accuracy: 0.7706 - digit3_accuracy: 0.8017 - digit4_accuracy: 0.9063 - val_loss: 0.1138 - val_digit0_loss: 0.0117 - val_digit1_loss: 0.0282 - val_digit2_loss: 0.0340 - val_digit3_loss: 0.0282 - val_digit4_loss: 0.0118 - val_digit0_accuracy: 0.9482 - val_digit1_accuracy: 0.8759 - val_digit2_accuracy: 0.8492 - val_digit3_accuracy: 0.8761 - val_digit4_accuracy: 0.9467\n",
      "Epoch 27/50\n",
      "450/450 [==============================] - 129s 287ms/step - loss: 0.1665 - digit0_loss: 0.0201 - digit1_loss: 0.0402 - digit2_loss: 0.0462 - digit3_loss: 0.0397 - digit4_loss: 0.0202 - digit0_accuracy: 0.9108 - digit1_accuracy: 0.8063 - digit2_accuracy: 0.7779 - digit3_accuracy: 0.8073 - digit4_accuracy: 0.9108 - val_loss: 0.1089 - val_digit0_loss: 0.0110 - val_digit1_loss: 0.0273 - val_digit2_loss: 0.0322 - val_digit3_loss: 0.0275 - val_digit4_loss: 0.0108 - val_digit0_accuracy: 0.9500 - val_digit1_accuracy: 0.8830 - val_digit2_accuracy: 0.8536 - val_digit3_accuracy: 0.8761 - val_digit4_accuracy: 0.9498\n",
      "Epoch 28/50\n",
      "450/450 [==============================] - 131s 292ms/step - loss: 0.1625 - digit0_loss: 0.0197 - digit1_loss: 0.0395 - digit2_loss: 0.0451 - digit3_loss: 0.0386 - digit4_loss: 0.0195 - digit0_accuracy: 0.9116 - digit1_accuracy: 0.8114 - digit2_accuracy: 0.7856 - digit3_accuracy: 0.8141 - digit4_accuracy: 0.9140 - val_loss: 0.1085 - val_digit0_loss: 0.0113 - val_digit1_loss: 0.0271 - val_digit2_loss: 0.0321 - val_digit3_loss: 0.0267 - val_digit4_loss: 0.0113 - val_digit0_accuracy: 0.9470 - val_digit1_accuracy: 0.8777 - val_digit2_accuracy: 0.8540 - val_digit3_accuracy: 0.8791 - val_digit4_accuracy: 0.9439\n",
      "Epoch 29/50\n",
      "450/450 [==============================] - 132s 293ms/step - loss: 0.1594 - digit0_loss: 0.0193 - digit1_loss: 0.0385 - digit2_loss: 0.0443 - digit3_loss: 0.0382 - digit4_loss: 0.0191 - digit0_accuracy: 0.9140 - digit1_accuracy: 0.8141 - digit2_accuracy: 0.7875 - digit3_accuracy: 0.8157 - digit4_accuracy: 0.9157 - val_loss: 0.1062 - val_digit0_loss: 0.0111 - val_digit1_loss: 0.0266 - val_digit2_loss: 0.0313 - val_digit3_loss: 0.0264 - val_digit4_loss: 0.0108 - val_digit0_accuracy: 0.9498 - val_digit1_accuracy: 0.8836 - val_digit2_accuracy: 0.8635 - val_digit3_accuracy: 0.8771 - val_digit4_accuracy: 0.9516\n",
      "Epoch 30/50\n",
      "450/450 [==============================] - 130s 290ms/step - loss: 0.1570 - digit0_loss: 0.0189 - digit1_loss: 0.0381 - digit2_loss: 0.0436 - digit3_loss: 0.0375 - digit4_loss: 0.0189 - digit0_accuracy: 0.9172 - digit1_accuracy: 0.8175 - digit2_accuracy: 0.7899 - digit3_accuracy: 0.8204 - digit4_accuracy: 0.9183 - val_loss: 0.1060 - val_digit0_loss: 0.0105 - val_digit1_loss: 0.0267 - val_digit2_loss: 0.0314 - val_digit3_loss: 0.0264 - val_digit4_loss: 0.0110 - val_digit0_accuracy: 0.9524 - val_digit1_accuracy: 0.8809 - val_digit2_accuracy: 0.8650 - val_digit3_accuracy: 0.8814 - val_digit4_accuracy: 0.9496\n",
      "Epoch 31/50\n",
      "450/450 [==============================] - 134s 297ms/step - loss: 0.1532 - digit0_loss: 0.0183 - digit1_loss: 0.0370 - digit2_loss: 0.0426 - digit3_loss: 0.0367 - digit4_loss: 0.0185 - digit0_accuracy: 0.9200 - digit1_accuracy: 0.8236 - digit2_accuracy: 0.7987 - digit3_accuracy: 0.8249 - digit4_accuracy: 0.9201 - val_loss: 0.1053 - val_digit0_loss: 0.0113 - val_digit1_loss: 0.0260 - val_digit2_loss: 0.0306 - val_digit3_loss: 0.0267 - val_digit4_loss: 0.0108 - val_digit0_accuracy: 0.9490 - val_digit1_accuracy: 0.8897 - val_digit2_accuracy: 0.8641 - val_digit3_accuracy: 0.8759 - val_digit4_accuracy: 0.9508\n",
      "Epoch 32/50\n",
      "450/450 [==============================] - 132s 293ms/step - loss: 0.1514 - digit0_loss: 0.0180 - digit1_loss: 0.0369 - digit2_loss: 0.0422 - digit3_loss: 0.0361 - digit4_loss: 0.0182 - digit0_accuracy: 0.9190 - digit1_accuracy: 0.8232 - digit2_accuracy: 0.8025 - digit3_accuracy: 0.8279 - digit4_accuracy: 0.9218 - val_loss: 0.0987 - val_digit0_loss: 0.0106 - val_digit1_loss: 0.0245 - val_digit2_loss: 0.0290 - val_digit3_loss: 0.0246 - val_digit4_loss: 0.0100 - val_digit0_accuracy: 0.9528 - val_digit1_accuracy: 0.8915 - val_digit2_accuracy: 0.8696 - val_digit3_accuracy: 0.8852 - val_digit4_accuracy: 0.9544\n",
      "Epoch 33/50\n",
      "450/450 [==============================] - 136s 303ms/step - loss: 0.1489 - digit0_loss: 0.0179 - digit1_loss: 0.0361 - digit2_loss: 0.0415 - digit3_loss: 0.0356 - digit4_loss: 0.0179 - digit0_accuracy: 0.9212 - digit1_accuracy: 0.8303 - digit2_accuracy: 0.8050 - digit3_accuracy: 0.8342 - digit4_accuracy: 0.9208 - val_loss: 0.0987 - val_digit0_loss: 0.0101 - val_digit1_loss: 0.0242 - val_digit2_loss: 0.0290 - val_digit3_loss: 0.0251 - val_digit4_loss: 0.0102 - val_digit0_accuracy: 0.9544 - val_digit1_accuracy: 0.8937 - val_digit2_accuracy: 0.8733 - val_digit3_accuracy: 0.8856 - val_digit4_accuracy: 0.9524\n",
      "Epoch 34/50\n",
      "450/450 [==============================] - 132s 293ms/step - loss: 0.1459 - digit0_loss: 0.0174 - digit1_loss: 0.0354 - digit2_loss: 0.0406 - digit3_loss: 0.0348 - digit4_loss: 0.0176 - digit0_accuracy: 0.9243 - digit1_accuracy: 0.8333 - digit2_accuracy: 0.8113 - digit3_accuracy: 0.8380 - digit4_accuracy: 0.9230 - val_loss: 0.0963 - val_digit0_loss: 0.0098 - val_digit1_loss: 0.0241 - val_digit2_loss: 0.0285 - val_digit3_loss: 0.0245 - val_digit4_loss: 0.0094 - val_digit0_accuracy: 0.9544 - val_digit1_accuracy: 0.8939 - val_digit2_accuracy: 0.8751 - val_digit3_accuracy: 0.8911 - val_digit4_accuracy: 0.9538\n",
      "Epoch 35/50\n",
      "450/450 [==============================] - 134s 297ms/step - loss: 0.1439 - digit0_loss: 0.0173 - digit1_loss: 0.0349 - digit2_loss: 0.0399 - digit3_loss: 0.0345 - digit4_loss: 0.0172 - digit0_accuracy: 0.9246 - digit1_accuracy: 0.8352 - digit2_accuracy: 0.8127 - digit3_accuracy: 0.8367 - digit4_accuracy: 0.9236 - val_loss: 0.0988 - val_digit0_loss: 0.0101 - val_digit1_loss: 0.0243 - val_digit2_loss: 0.0293 - val_digit3_loss: 0.0250 - val_digit4_loss: 0.0101 - val_digit0_accuracy: 0.9528 - val_digit1_accuracy: 0.8961 - val_digit2_accuracy: 0.8726 - val_digit3_accuracy: 0.8880 - val_digit4_accuracy: 0.9518\n",
      "Epoch 36/50\n",
      "450/450 [==============================] - 129s 287ms/step - loss: 0.1422 - digit0_loss: 0.0170 - digit1_loss: 0.0345 - digit2_loss: 0.0396 - digit3_loss: 0.0341 - digit4_loss: 0.0169 - digit0_accuracy: 0.9250 - digit1_accuracy: 0.8401 - digit2_accuracy: 0.8145 - digit3_accuracy: 0.8414 - digit4_accuracy: 0.9265 - val_loss: 0.0996 - val_digit0_loss: 0.0107 - val_digit1_loss: 0.0249 - val_digit2_loss: 0.0289 - val_digit3_loss: 0.0248 - val_digit4_loss: 0.0103 - val_digit0_accuracy: 0.9494 - val_digit1_accuracy: 0.8943 - val_digit2_accuracy: 0.8743 - val_digit3_accuracy: 0.8872 - val_digit4_accuracy: 0.9492\n",
      "Epoch 37/50\n",
      "450/450 [==============================] - 129s 287ms/step - loss: 0.1404 - digit0_loss: 0.0168 - digit1_loss: 0.0342 - digit2_loss: 0.0392 - digit3_loss: 0.0334 - digit4_loss: 0.0168 - digit0_accuracy: 0.9269 - digit1_accuracy: 0.8402 - digit2_accuracy: 0.8181 - digit3_accuracy: 0.8437 - digit4_accuracy: 0.9268 - val_loss: 0.0929 - val_digit0_loss: 0.0094 - val_digit1_loss: 0.0230 - val_digit2_loss: 0.0275 - val_digit3_loss: 0.0232 - val_digit4_loss: 0.0097 - val_digit0_accuracy: 0.9565 - val_digit1_accuracy: 0.9046 - val_digit2_accuracy: 0.8799 - val_digit3_accuracy: 0.8933 - val_digit4_accuracy: 0.9553\n",
      "Epoch 38/50\n",
      "450/450 [==============================] - 131s 291ms/step - loss: 0.1372 - digit0_loss: 0.0164 - digit1_loss: 0.0335 - digit2_loss: 0.0382 - digit3_loss: 0.0330 - digit4_loss: 0.0162 - digit0_accuracy: 0.9283 - digit1_accuracy: 0.8464 - digit2_accuracy: 0.8234 - digit3_accuracy: 0.8465 - digit4_accuracy: 0.9308 - val_loss: 0.0893 - val_digit0_loss: 0.0089 - val_digit1_loss: 0.0220 - val_digit2_loss: 0.0268 - val_digit3_loss: 0.0224 - val_digit4_loss: 0.0091 - val_digit0_accuracy: 0.9583 - val_digit1_accuracy: 0.9069 - val_digit2_accuracy: 0.8781 - val_digit3_accuracy: 0.8971 - val_digit4_accuracy: 0.9563\n",
      "Epoch 39/50\n",
      "450/450 [==============================] - 129s 286ms/step - loss: 0.1359 - digit0_loss: 0.0162 - digit1_loss: 0.0329 - digit2_loss: 0.0380 - digit3_loss: 0.0327 - digit4_loss: 0.0162 - digit0_accuracy: 0.9297 - digit1_accuracy: 0.8474 - digit2_accuracy: 0.8242 - digit3_accuracy: 0.8490 - digit4_accuracy: 0.9302 - val_loss: 0.0909 - val_digit0_loss: 0.0094 - val_digit1_loss: 0.0226 - val_digit2_loss: 0.0272 - val_digit3_loss: 0.0227 - val_digit4_loss: 0.0090 - val_digit0_accuracy: 0.9549 - val_digit1_accuracy: 0.9036 - val_digit2_accuracy: 0.8807 - val_digit3_accuracy: 0.8969 - val_digit4_accuracy: 0.9609\n",
      "Epoch 40/50\n",
      "450/450 [==============================] - 128s 284ms/step - loss: 0.1348 - digit0_loss: 0.0161 - digit1_loss: 0.0327 - digit2_loss: 0.0376 - digit3_loss: 0.0324 - digit4_loss: 0.0160 - digit0_accuracy: 0.9290 - digit1_accuracy: 0.8480 - digit2_accuracy: 0.8265 - digit3_accuracy: 0.8494 - digit4_accuracy: 0.9320 - val_loss: 0.0894 - val_digit0_loss: 0.0091 - val_digit1_loss: 0.0219 - val_digit2_loss: 0.0267 - val_digit3_loss: 0.0225 - val_digit4_loss: 0.0092 - val_digit0_accuracy: 0.9585 - val_digit1_accuracy: 0.9065 - val_digit2_accuracy: 0.8812 - val_digit3_accuracy: 0.8959 - val_digit4_accuracy: 0.9561\n",
      "Epoch 41/50\n",
      "450/450 [==============================] - 131s 291ms/step - loss: 0.1337 - digit0_loss: 0.0160 - digit1_loss: 0.0325 - digit2_loss: 0.0373 - digit3_loss: 0.0321 - digit4_loss: 0.0159 - digit0_accuracy: 0.9294 - digit1_accuracy: 0.8483 - digit2_accuracy: 0.8278 - digit3_accuracy: 0.8516 - digit4_accuracy: 0.9319 - val_loss: 0.0883 - val_digit0_loss: 0.0088 - val_digit1_loss: 0.0219 - val_digit2_loss: 0.0261 - val_digit3_loss: 0.0225 - val_digit4_loss: 0.0090 - val_digit0_accuracy: 0.9611 - val_digit1_accuracy: 0.9056 - val_digit2_accuracy: 0.8826 - val_digit3_accuracy: 0.8978 - val_digit4_accuracy: 0.9593\n",
      "Epoch 42/50\n",
      "450/450 [==============================] - 25118s 56s/step - loss: 0.1321 - digit0_loss: 0.0156 - digit1_loss: 0.0320 - digit2_loss: 0.0371 - digit3_loss: 0.0317 - digit4_loss: 0.0157 - digit0_accuracy: 0.9319 - digit1_accuracy: 0.8509 - digit2_accuracy: 0.8297 - digit3_accuracy: 0.8519 - digit4_accuracy: 0.9322 - val_loss: 0.0868 - val_digit0_loss: 0.0086 - val_digit1_loss: 0.0216 - val_digit2_loss: 0.0260 - val_digit3_loss: 0.0215 - val_digit4_loss: 0.0091 - val_digit0_accuracy: 0.9587 - val_digit1_accuracy: 0.9046 - val_digit2_accuracy: 0.8840 - val_digit3_accuracy: 0.9010 - val_digit4_accuracy: 0.9565\n",
      "Epoch 43/50\n",
      "450/450 [==============================] - 21531s 48s/step - loss: 0.1299 - digit0_loss: 0.0155 - digit1_loss: 0.0313 - digit2_loss: 0.0365 - digit3_loss: 0.0311 - digit4_loss: 0.0155 - digit0_accuracy: 0.9323 - digit1_accuracy: 0.8566 - digit2_accuracy: 0.8317 - digit3_accuracy: 0.8548 - digit4_accuracy: 0.9326 - val_loss: 0.0890 - val_digit0_loss: 0.0096 - val_digit1_loss: 0.0215 - val_digit2_loss: 0.0259 - val_digit3_loss: 0.0222 - val_digit4_loss: 0.0097 - val_digit0_accuracy: 0.9526 - val_digit1_accuracy: 0.9057 - val_digit2_accuracy: 0.8858 - val_digit3_accuracy: 0.8980 - val_digit4_accuracy: 0.9546\n",
      "Epoch 44/50\n",
      "450/450 [==============================] - 118s 261ms/step - loss: 0.1287 - digit0_loss: 0.0152 - digit1_loss: 0.0312 - digit2_loss: 0.0363 - digit3_loss: 0.0308 - digit4_loss: 0.0152 - digit0_accuracy: 0.9334 - digit1_accuracy: 0.8549 - digit2_accuracy: 0.8356 - digit3_accuracy: 0.8589 - digit4_accuracy: 0.9357 - val_loss: 0.0873 - val_digit0_loss: 0.0090 - val_digit1_loss: 0.0215 - val_digit2_loss: 0.0256 - val_digit3_loss: 0.0219 - val_digit4_loss: 0.0094 - val_digit0_accuracy: 0.9601 - val_digit1_accuracy: 0.9083 - val_digit2_accuracy: 0.8844 - val_digit3_accuracy: 0.8953 - val_digit4_accuracy: 0.9536\n",
      "Epoch 45/50\n",
      "450/450 [==============================] - 713s 2s/step - loss: 0.1277 - digit0_loss: 0.0152 - digit1_loss: 0.0309 - digit2_loss: 0.0359 - digit3_loss: 0.0306 - digit4_loss: 0.0151 - digit0_accuracy: 0.9345 - digit1_accuracy: 0.8585 - digit2_accuracy: 0.8373 - digit3_accuracy: 0.8588 - digit4_accuracy: 0.9347 - val_loss: 0.0864 - val_digit0_loss: 0.0091 - val_digit1_loss: 0.0211 - val_digit2_loss: 0.0256 - val_digit3_loss: 0.0212 - val_digit4_loss: 0.0093 - val_digit0_accuracy: 0.9557 - val_digit1_accuracy: 0.9046 - val_digit2_accuracy: 0.8852 - val_digit3_accuracy: 0.9008 - val_digit4_accuracy: 0.9563\n",
      "Epoch 46/50\n",
      "450/450 [==============================] - 112s 249ms/step - loss: 0.1259 - digit0_loss: 0.0151 - digit1_loss: 0.0304 - digit2_loss: 0.0356 - digit3_loss: 0.0299 - digit4_loss: 0.0149 - digit0_accuracy: 0.9353 - digit1_accuracy: 0.8620 - digit2_accuracy: 0.8368 - digit3_accuracy: 0.8623 - digit4_accuracy: 0.9356 - val_loss: 0.0898 - val_digit0_loss: 0.0098 - val_digit1_loss: 0.0219 - val_digit2_loss: 0.0258 - val_digit3_loss: 0.0223 - val_digit4_loss: 0.0100 - val_digit0_accuracy: 0.9561 - val_digit1_accuracy: 0.8973 - val_digit2_accuracy: 0.8872 - val_digit3_accuracy: 0.8935 - val_digit4_accuracy: 0.9518\n",
      "Epoch 47/50\n",
      "450/450 [==============================] - 108s 240ms/step - loss: 0.1254 - digit0_loss: 0.0148 - digit1_loss: 0.0303 - digit2_loss: 0.0352 - digit3_loss: 0.0303 - digit4_loss: 0.0148 - digit0_accuracy: 0.9358 - digit1_accuracy: 0.8586 - digit2_accuracy: 0.8401 - digit3_accuracy: 0.8612 - digit4_accuracy: 0.9386 - val_loss: 0.0838 - val_digit0_loss: 0.0087 - val_digit1_loss: 0.0204 - val_digit2_loss: 0.0250 - val_digit3_loss: 0.0210 - val_digit4_loss: 0.0088 - val_digit0_accuracy: 0.9597 - val_digit1_accuracy: 0.9142 - val_digit2_accuracy: 0.8854 - val_digit3_accuracy: 0.9061 - val_digit4_accuracy: 0.9591\n",
      "Epoch 48/50\n",
      "450/450 [==============================] - 114s 253ms/step - loss: 0.1242 - digit0_loss: 0.0147 - digit1_loss: 0.0299 - digit2_loss: 0.0348 - digit3_loss: 0.0298 - digit4_loss: 0.0150 - digit0_accuracy: 0.9360 - digit1_accuracy: 0.8626 - digit2_accuracy: 0.8433 - digit3_accuracy: 0.8637 - digit4_accuracy: 0.9356 - val_loss: 0.0851 - val_digit0_loss: 0.0087 - val_digit1_loss: 0.0206 - val_digit2_loss: 0.0253 - val_digit3_loss: 0.0216 - val_digit4_loss: 0.0089 - val_digit0_accuracy: 0.9575 - val_digit1_accuracy: 0.9097 - val_digit2_accuracy: 0.8888 - val_digit3_accuracy: 0.9004 - val_digit4_accuracy: 0.9591\n",
      "Epoch 49/50\n",
      "450/450 [==============================] - 113s 252ms/step - loss: 0.1225 - digit0_loss: 0.0149 - digit1_loss: 0.0295 - digit2_loss: 0.0346 - digit3_loss: 0.0292 - digit4_loss: 0.0143 - digit0_accuracy: 0.9351 - digit1_accuracy: 0.8658 - digit2_accuracy: 0.8438 - digit3_accuracy: 0.8664 - digit4_accuracy: 0.9393 - val_loss: 0.0823 - val_digit0_loss: 0.0083 - val_digit1_loss: 0.0201 - val_digit2_loss: 0.0246 - val_digit3_loss: 0.0209 - val_digit4_loss: 0.0084 - val_digit0_accuracy: 0.9631 - val_digit1_accuracy: 0.9103 - val_digit2_accuracy: 0.8899 - val_digit3_accuracy: 0.9050 - val_digit4_accuracy: 0.9601\n",
      "Epoch 50/50\n",
      "450/450 [==============================] - 116s 258ms/step - loss: 0.1215 - digit0_loss: 0.0147 - digit1_loss: 0.0293 - digit2_loss: 0.0341 - digit3_loss: 0.0290 - digit4_loss: 0.0143 - digit0_accuracy: 0.9362 - digit1_accuracy: 0.8675 - digit2_accuracy: 0.8476 - digit3_accuracy: 0.8671 - digit4_accuracy: 0.9378 - val_loss: 0.0804 - val_digit0_loss: 0.0079 - val_digit1_loss: 0.0195 - val_digit2_loss: 0.0240 - val_digit3_loss: 0.0203 - val_digit4_loss: 0.0087 - val_digit0_accuracy: 0.9613 - val_digit1_accuracy: 0.9158 - val_digit2_accuracy: 0.8943 - val_digit3_accuracy: 0.9052 - val_digit4_accuracy: 0.9593\n"
     ]
    }
   ],
   "source": [
    "history = model.fit(x_train, s_train,\n",
    "                    batch_size=BATCH_SIZE,\n",
    "                    epochs=EPOCHS,\n",
    "                    verbose=1,\n",
    "                    validation_data=(x_test, s_test)\n",
    "                   )"
   ]
  },
  {
   "cell_type": "code",
   "execution_count": 15,
   "id": "fda7c91d",
   "metadata": {},
   "outputs": [],
   "source": [
    "digit_acc = [[] for _ in range(NUM_OF_LETTERS)]\n",
    "val_digit_acc = [[] for _ in range(NUM_OF_LETTERS)]\n",
    "loss = []\n",
    "val_loss = []\n",
    "\n",
    "\n",
    "def plot_diagram(digit_acc_now, val_digit_acc_now, loss_now, val_loss_now):\n",
    "    global digit_acc, val_digit_acc, loss, val_loss\n",
    "    \n",
    "    \n",
    "    for i in range(NUM_OF_LETTERS):\n",
    "        digit_acc[i].extend(digit_acc_now[i])\n",
    "        val_digit_acc[i].extend(val_digit_acc_now[i])\n",
    "    loss.extend(loss_now)\n",
    "    val_loss.extend(val_loss_now)\n",
    "    \n",
    "    for i in range(NUM_OF_LETTERS):\n",
    "        s = {0:'First', 1:'Second', 2:'Third', 3:'Fourth', 4:'Fifth'}[i]\n",
    "        # plt.plot(val_digit_acc[i], label='%s Digit Train' % s)\n",
    "        plt.plot(digit_acc[i], label='%s Digit Test' % s)\n",
    "\n",
    "    plt.title('Model accuracy')\n",
    "    plt.ylabel('Accuracy')\n",
    "    plt.xlabel('Epoch')\n",
    "    plt.legend()\n",
    "    plt.show()\n",
    "\n",
    "    for i in range(NUM_OF_LETTERS):\n",
    "        s = {0:'First', 1:'Second', 2:'Third', 3:'Fourth', 4:'Fifth'}[i]\n",
    "        plt.plot(val_digit_acc[i], label='%s Digit Train' % s)\n",
    "        # plt.plot(digit_acc[i], label='%s Digit Test' % s)\n",
    "\n",
    "    plt.title('Model accuracy')\n",
    "    plt.ylabel('Accuracy')\n",
    "    plt.xlabel('Epoch')\n",
    "    plt.legend()\n",
    "    plt.show()\n",
    "\n",
    "\n",
    "\n",
    "    # Plot training & validation loss values\n",
    "    \n",
    "    plt.plot(val_loss, label='Train')\n",
    "    plt.plot(loss, label='Test')\n",
    "    plt.title('Model loss')\n",
    "    plt.ylabel('Loss')\n",
    "    plt.xlabel('Epoch')\n",
    "    plt.legend()\n",
    "    plt.show()"
   ]
  },
  {
   "cell_type": "code",
   "execution_count": 16,
   "id": "4b6ebd63",
   "metadata": {},
   "outputs": [
    {
     "data": {
      "image/png": "[encoded data removed]",
      "text/plain": [
       "<Figure size 432x288 with 1 Axes>"
      ]
     },
     "metadata": {
      "needs_background": "light"
     },
     "output_type": "display_data"
    },
    {
     "data": {
      "image/png": "[encoded data removed]",
      "text/plain": [
       "<Figure size 432x288 with 1 Axes>"
      ]
     },
     "metadata": {
      "needs_background": "light"
     },
     "output_type": "display_data"
    },
    {
     "data": {
      "image/png": "[encoded data removed]",
      "text/plain": [
       "<Figure size 432x288 with 1 Axes>"
      ]
     },
     "metadata": {
      "needs_background": "light"
     },
     "output_type": "display_data"
    }
   ],
   "source": [
    "plot_diagram(\n",
    "    \n",
    "    [history.history['digit%d_accuracy' % i] for i in range(NUM_OF_LETTERS)],\n",
    "    [history.history['val_digit%d_accuracy' % i] for i in range(NUM_OF_LETTERS)],\n",
    "    history.history['loss'],\n",
    "    history.history['val_loss'],\n",
    ")"
   ]
  },
  {
   "cell_type": "code",
   "execution_count": 17,
   "id": "3cf9256d",
   "metadata": {},
   "outputs": [
    {
     "name": "stdout",
     "output_type": "stream",
     "text": [
      "Saved trained model at /Users/pnarukullas25/Documents/fgg11/saved_models/keras_ciraf10_trained_model.h5 \n"
     ]
    }
   ],
   "source": [
    "# Save model and weights\n",
    "if not os.path.isdir(save_dir):\n",
    "    os.makedirs(save_dir)\n",
    "model_path = os.path.join(save_dir, model_name)\n",
    "model.save(model_path)\n",
    "print('Saved trained model at %s ' % model_path)"
   ]
  },
  {
   "cell_type": "code",
   "execution_count": 20,
   "id": "705d1ca2",
   "metadata": {},
   "outputs": [
    {
     "name": "stdout",
     "output_type": "stream",
     "text": [
      "1405/1405 [==============================] - 27s 19ms/step - loss: 0.0460 - digit0_loss: 0.0038 - digit1_loss: 0.0118 - digit2_loss: 0.0142 - digit3_loss: 0.0117 - digit4_loss: 0.0045 - digit0_accuracy: 0.9858 - digit1_accuracy: 0.9584 - digit2_accuracy: 0.9508 - digit3_accuracy: 0.9550 - digit4_accuracy: 0.9821\n",
      "Train loss:     0.017522\n",
      "Train accuracy: 84.25\n"
     ]
    }
   ],
   "source": [
    "# Score trained model.\n",
    "scores = model.evaluate(x_train, s_train, verbose=1)\n",
    "print('Train loss:     %f' % np.mean(scores[0:5]))\n",
    "acc = 1.\n",
    "for i in range(5):\n",
    "    acc *= scores[6+i]\n",
    "print('Train accuracy: %.2f' % (acc * 100.))"
   ]
  },
  {
   "cell_type": "code",
   "execution_count": 21,
   "id": "963a929c",
   "metadata": {},
   "outputs": [
    {
     "name": "stdout",
     "output_type": "stream",
     "text": [
      "159/159 [==============================] - 3s 20ms/step - loss: 0.0804 - digit0_loss: 0.0079 - digit1_loss: 0.0195 - digit2_loss: 0.0240 - digit3_loss: 0.0203 - digit4_loss: 0.0087 - digit0_accuracy: 0.9613 - digit1_accuracy: 0.9158 - digit2_accuracy: 0.8943 - digit3_accuracy: 0.9052 - digit4_accuracy: 0.9593\n",
      "Test loss:     0.030420\n",
      "Test accuracy: 68.36\n"
     ]
    }
   ],
   "source": [
    "scores = model.evaluate(x_test, s_test, verbose=1)\n",
    "print('Test loss:     %f' % np.mean(scores[0:5]))\n",
    "acc = 1.\n",
    "for i in range(5):\n",
    "    acc *= scores[6+i]\n",
    "print('Test accuracy: %.2f' % (acc * 100.))"
   ]
  },
  {
   "cell_type": "code",
   "execution_count": null,
   "id": "77e9cf53",
   "metadata": {},
   "outputs": [],
   "source": []
  }
 ],
 "metadata": {
  "kernelspec": {
   "display_name": "Python 3",
   "language": "python",
   "name": "python3"
  },
  "language_info": {
   "codemirror_mode": {
    "name": "ipython",
    "version": 3
   },
   "file_extension": ".py",
   "mimetype": "text/x-python",
   "name": "python",
   "nbconvert_exporter": "python",
   "pygments_lexer": "ipython3",
   "version": "3.8.8"
  }
 },
 "nbformat": 4,
 "nbformat_minor": 5
}
